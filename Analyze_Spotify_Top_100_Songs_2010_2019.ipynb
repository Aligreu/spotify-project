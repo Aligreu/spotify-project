{
  "cells": [
    {
      "cell_type": "markdown",
      "metadata": {
        "id": "view-in-github",
        "colab_type": "text"
      },
      "source": [
        "<a href=\"https://colab.research.google.com/github/Aligreu/spotify-project/blob/main/Analyze_Spotify_Top_100_Songs_2010_2019.ipynb\" target=\"_parent\"><img src=\"https://colab.research.google.com/assets/colab-badge.svg\" alt=\"Open In Colab\"/></a>"
      ]
    },
    {
      "cell_type": "code",
      "execution_count": 28,
      "id": "e546651e",
      "metadata": {
        "colab": {
          "base_uri": "https://localhost:8080/",
          "height": 140
        },
        "id": "e546651e",
        "outputId": "6ca8d52e-80f9-4b4b-d21f-7e05f53cccd0"
      },
      "outputs": [
        {
          "output_type": "execute_result",
          "data": {
            "text/plain": [
              "'Description for each column as per metadata of the dataset are as follows:\\n\\nFirst column is ID\\nbpm = Beats.Per.Minute - The tempo of the song\\nnrgy = The energy of a song - the higher the value, the more energetic the song\\ndnce = Danceability - The higher the value, the easier it is to dance to this song\\ndB = Loudness - The higher the value, the louder the song\\nlive = Liveness - The higher the value, the more likely the song is a live recording\\nval = Valence - The higher the value, the more positive mood for the song\\ndur = Length - The duration of the song in seconds\\nacous = Acousticness - The higher the value the more acoustic the song is\\nspch = Speechiness - The higher the value the more spoken word the song contains\\npop = Popularity- The higher the value the more popular the song is'"
            ],
            "application/vnd.google.colaboratory.intrinsic+json": {
              "type": "string"
            }
          },
          "metadata": {},
          "execution_count": 28
        }
      ],
      "source": [
        "\"\"\"Description for each column as per metadata of the dataset are as follows:\n",
        "\n",
        "First column is ID\n",
        "bpm = Beats.Per.Minute - The tempo of the song\n",
        "nrgy = The energy of a song - the higher the value, the more energetic the song\n",
        "dnce = Danceability - The higher the value, the easier it is to dance to this song\n",
        "dB = Loudness - The higher the value, the louder the song\n",
        "live = Liveness - The higher the value, the more likely the song is a live recording\n",
        "val = Valence - The higher the value, the more positive mood for the song\n",
        "dur = Length - The duration of the song in seconds\n",
        "acous = Acousticness - The higher the value the more acoustic the song is\n",
        "spch = Speechiness - The higher the value the more spoken word the song contains\n",
        "pop = Popularity- The higher the value the more popular the song is\"\"\""
      ]
    },
    {
      "cell_type": "code",
      "execution_count": 50,
      "id": "e648733a",
      "metadata": {
        "id": "e648733a"
      },
      "outputs": [],
      "source": [
        "import seaborn as sns\n",
        "import pandas as pd\n",
        "import numpy as np\n",
        "import matplotlib.pyplot as plt\n",
        "plt.style.use(\"fivethirtyeight\")"
      ]
    },
    {
      "cell_type": "code",
      "execution_count": 11,
      "id": "5015a91c",
      "metadata": {
        "colab": {
          "base_uri": "https://localhost:8080/"
        },
        "id": "5015a91c",
        "outputId": "fa204534-1b21-4028-f387-026b3c204ea1"
      },
      "outputs": [
        {
          "output_type": "execute_result",
          "data": {
            "text/plain": [
              "<pandas._config.config.option_context at 0x7fdd90d05590>"
            ]
          },
          "metadata": {},
          "execution_count": 11
        }
      ],
      "source": [
        "pd.option_context('display.max_columns', 50)"
      ]
    },
    {
      "cell_type": "code",
      "execution_count": 12,
      "id": "53ce6ce7",
      "metadata": {
        "colab": {
          "base_uri": "https://localhost:8080/",
          "height": 371
        },
        "id": "53ce6ce7",
        "outputId": "646d7fe3-2e08-4419-d2d1-113331c1ca56"
      },
      "outputs": [
        {
          "output_type": "execute_result",
          "data": {
            "text/plain": [
              "                                           title      artist    top genre  \\\n",
              "0                  STARSTRUKK (feat. Katy Perry)       3OH!3    dance pop   \n",
              "1                    My First Kiss (feat. Ke$ha)       3OH!3    dance pop   \n",
              "2                                I Need A Dollar  Aloe Blacc     pop soul   \n",
              "3  Airplanes (feat. Hayley Williams of Paramore)       B.o.B  atl hip hop   \n",
              "4              Nothin' on You (feat. Bruno Mars)       B.o.B  atl hip hop   \n",
              "\n",
              "   year released       added  bpm  nrgy  dnce  dB  live  val  dur  acous  \\\n",
              "0           2009  2022‑02‑17  140    81    61  -6    23   23  203      0   \n",
              "1           2010  2022‑02‑17  138    89    68  -4    36   83  192      1   \n",
              "2           2010  2022‑02‑17   95    48    84  -7     9   96  243     20   \n",
              "3           2010  2022‑02‑17   93    87    66  -4     4   38  180     11   \n",
              "4           2010  2022‑02‑17  104    85    69  -6     9   74  268     39   \n",
              "\n",
              "   spch  pop  top year artist type  \n",
              "0     6   70      2010         Duo  \n",
              "1     8   68      2010         Duo  \n",
              "2     3   72      2010        Solo  \n",
              "3    12   80      2010        Solo  \n",
              "4     5   79      2010        Solo  "
            ],
            "text/html": [
              "\n",
              "  <div id=\"df-ee1d80e0-e266-4727-80cb-483acf853f60\">\n",
              "    <div class=\"colab-df-container\">\n",
              "      <div>\n",
              "<style scoped>\n",
              "    .dataframe tbody tr th:only-of-type {\n",
              "        vertical-align: middle;\n",
              "    }\n",
              "\n",
              "    .dataframe tbody tr th {\n",
              "        vertical-align: top;\n",
              "    }\n",
              "\n",
              "    .dataframe thead th {\n",
              "        text-align: right;\n",
              "    }\n",
              "</style>\n",
              "<table border=\"1\" class=\"dataframe\">\n",
              "  <thead>\n",
              "    <tr style=\"text-align: right;\">\n",
              "      <th></th>\n",
              "      <th>title</th>\n",
              "      <th>artist</th>\n",
              "      <th>top genre</th>\n",
              "      <th>year released</th>\n",
              "      <th>added</th>\n",
              "      <th>bpm</th>\n",
              "      <th>nrgy</th>\n",
              "      <th>dnce</th>\n",
              "      <th>dB</th>\n",
              "      <th>live</th>\n",
              "      <th>val</th>\n",
              "      <th>dur</th>\n",
              "      <th>acous</th>\n",
              "      <th>spch</th>\n",
              "      <th>pop</th>\n",
              "      <th>top year</th>\n",
              "      <th>artist type</th>\n",
              "    </tr>\n",
              "  </thead>\n",
              "  <tbody>\n",
              "    <tr>\n",
              "      <th>0</th>\n",
              "      <td>STARSTRUKK (feat. Katy Perry)</td>\n",
              "      <td>3OH!3</td>\n",
              "      <td>dance pop</td>\n",
              "      <td>2009</td>\n",
              "      <td>2022‑02‑17</td>\n",
              "      <td>140</td>\n",
              "      <td>81</td>\n",
              "      <td>61</td>\n",
              "      <td>-6</td>\n",
              "      <td>23</td>\n",
              "      <td>23</td>\n",
              "      <td>203</td>\n",
              "      <td>0</td>\n",
              "      <td>6</td>\n",
              "      <td>70</td>\n",
              "      <td>2010</td>\n",
              "      <td>Duo</td>\n",
              "    </tr>\n",
              "    <tr>\n",
              "      <th>1</th>\n",
              "      <td>My First Kiss (feat. Ke$ha)</td>\n",
              "      <td>3OH!3</td>\n",
              "      <td>dance pop</td>\n",
              "      <td>2010</td>\n",
              "      <td>2022‑02‑17</td>\n",
              "      <td>138</td>\n",
              "      <td>89</td>\n",
              "      <td>68</td>\n",
              "      <td>-4</td>\n",
              "      <td>36</td>\n",
              "      <td>83</td>\n",
              "      <td>192</td>\n",
              "      <td>1</td>\n",
              "      <td>8</td>\n",
              "      <td>68</td>\n",
              "      <td>2010</td>\n",
              "      <td>Duo</td>\n",
              "    </tr>\n",
              "    <tr>\n",
              "      <th>2</th>\n",
              "      <td>I Need A Dollar</td>\n",
              "      <td>Aloe Blacc</td>\n",
              "      <td>pop soul</td>\n",
              "      <td>2010</td>\n",
              "      <td>2022‑02‑17</td>\n",
              "      <td>95</td>\n",
              "      <td>48</td>\n",
              "      <td>84</td>\n",
              "      <td>-7</td>\n",
              "      <td>9</td>\n",
              "      <td>96</td>\n",
              "      <td>243</td>\n",
              "      <td>20</td>\n",
              "      <td>3</td>\n",
              "      <td>72</td>\n",
              "      <td>2010</td>\n",
              "      <td>Solo</td>\n",
              "    </tr>\n",
              "    <tr>\n",
              "      <th>3</th>\n",
              "      <td>Airplanes (feat. Hayley Williams of Paramore)</td>\n",
              "      <td>B.o.B</td>\n",
              "      <td>atl hip hop</td>\n",
              "      <td>2010</td>\n",
              "      <td>2022‑02‑17</td>\n",
              "      <td>93</td>\n",
              "      <td>87</td>\n",
              "      <td>66</td>\n",
              "      <td>-4</td>\n",
              "      <td>4</td>\n",
              "      <td>38</td>\n",
              "      <td>180</td>\n",
              "      <td>11</td>\n",
              "      <td>12</td>\n",
              "      <td>80</td>\n",
              "      <td>2010</td>\n",
              "      <td>Solo</td>\n",
              "    </tr>\n",
              "    <tr>\n",
              "      <th>4</th>\n",
              "      <td>Nothin' on You (feat. Bruno Mars)</td>\n",
              "      <td>B.o.B</td>\n",
              "      <td>atl hip hop</td>\n",
              "      <td>2010</td>\n",
              "      <td>2022‑02‑17</td>\n",
              "      <td>104</td>\n",
              "      <td>85</td>\n",
              "      <td>69</td>\n",
              "      <td>-6</td>\n",
              "      <td>9</td>\n",
              "      <td>74</td>\n",
              "      <td>268</td>\n",
              "      <td>39</td>\n",
              "      <td>5</td>\n",
              "      <td>79</td>\n",
              "      <td>2010</td>\n",
              "      <td>Solo</td>\n",
              "    </tr>\n",
              "  </tbody>\n",
              "</table>\n",
              "</div>\n",
              "      <button class=\"colab-df-convert\" onclick=\"convertToInteractive('df-ee1d80e0-e266-4727-80cb-483acf853f60')\"\n",
              "              title=\"Convert this dataframe to an interactive table.\"\n",
              "              style=\"display:none;\">\n",
              "        \n",
              "  <svg xmlns=\"http://www.w3.org/2000/svg\" height=\"24px\"viewBox=\"0 0 24 24\"\n",
              "       width=\"24px\">\n",
              "    <path d=\"M0 0h24v24H0V0z\" fill=\"none\"/>\n",
              "    <path d=\"M18.56 5.44l.94 2.06.94-2.06 2.06-.94-2.06-.94-.94-2.06-.94 2.06-2.06.94zm-11 1L8.5 8.5l.94-2.06 2.06-.94-2.06-.94L8.5 2.5l-.94 2.06-2.06.94zm10 10l.94 2.06.94-2.06 2.06-.94-2.06-.94-.94-2.06-.94 2.06-2.06.94z\"/><path d=\"M17.41 7.96l-1.37-1.37c-.4-.4-.92-.59-1.43-.59-.52 0-1.04.2-1.43.59L10.3 9.45l-7.72 7.72c-.78.78-.78 2.05 0 2.83L4 21.41c.39.39.9.59 1.41.59.51 0 1.02-.2 1.41-.59l7.78-7.78 2.81-2.81c.8-.78.8-2.07 0-2.86zM5.41 20L4 18.59l7.72-7.72 1.47 1.35L5.41 20z\"/>\n",
              "  </svg>\n",
              "      </button>\n",
              "      \n",
              "  <style>\n",
              "    .colab-df-container {\n",
              "      display:flex;\n",
              "      flex-wrap:wrap;\n",
              "      gap: 12px;\n",
              "    }\n",
              "\n",
              "    .colab-df-convert {\n",
              "      background-color: #E8F0FE;\n",
              "      border: none;\n",
              "      border-radius: 50%;\n",
              "      cursor: pointer;\n",
              "      display: none;\n",
              "      fill: #1967D2;\n",
              "      height: 32px;\n",
              "      padding: 0 0 0 0;\n",
              "      width: 32px;\n",
              "    }\n",
              "\n",
              "    .colab-df-convert:hover {\n",
              "      background-color: #E2EBFA;\n",
              "      box-shadow: 0px 1px 2px rgba(60, 64, 67, 0.3), 0px 1px 3px 1px rgba(60, 64, 67, 0.15);\n",
              "      fill: #174EA6;\n",
              "    }\n",
              "\n",
              "    [theme=dark] .colab-df-convert {\n",
              "      background-color: #3B4455;\n",
              "      fill: #D2E3FC;\n",
              "    }\n",
              "\n",
              "    [theme=dark] .colab-df-convert:hover {\n",
              "      background-color: #434B5C;\n",
              "      box-shadow: 0px 1px 3px 1px rgba(0, 0, 0, 0.15);\n",
              "      filter: drop-shadow(0px 1px 2px rgba(0, 0, 0, 0.3));\n",
              "      fill: #FFFFFF;\n",
              "    }\n",
              "  </style>\n",
              "\n",
              "      <script>\n",
              "        const buttonEl =\n",
              "          document.querySelector('#df-ee1d80e0-e266-4727-80cb-483acf853f60 button.colab-df-convert');\n",
              "        buttonEl.style.display =\n",
              "          google.colab.kernel.accessAllowed ? 'block' : 'none';\n",
              "\n",
              "        async function convertToInteractive(key) {\n",
              "          const element = document.querySelector('#df-ee1d80e0-e266-4727-80cb-483acf853f60');\n",
              "          const dataTable =\n",
              "            await google.colab.kernel.invokeFunction('convertToInteractive',\n",
              "                                                     [key], {});\n",
              "          if (!dataTable) return;\n",
              "\n",
              "          const docLinkHtml = 'Like what you see? Visit the ' +\n",
              "            '<a target=\"_blank\" href=https://colab.research.google.com/notebooks/data_table.ipynb>data table notebook</a>'\n",
              "            + ' to learn more about interactive tables.';\n",
              "          element.innerHTML = '';\n",
              "          dataTable['output_type'] = 'display_data';\n",
              "          await google.colab.output.renderOutput(dataTable, element);\n",
              "          const docLink = document.createElement('div');\n",
              "          docLink.innerHTML = docLinkHtml;\n",
              "          element.appendChild(docLink);\n",
              "        }\n",
              "      </script>\n",
              "    </div>\n",
              "  </div>\n",
              "  "
            ]
          },
          "metadata": {},
          "execution_count": 12
        }
      ],
      "source": [
        "data = pd.read_excel('/content/drive/MyDrive/Spotify 2010 - 2019 Top 100 Songs.xlsx').copy()\n",
        "data.iloc[:5, :]"
      ]
    },
    {
      "cell_type": "code",
      "execution_count": 13,
      "id": "86158051",
      "metadata": {
        "colab": {
          "base_uri": "https://localhost:8080/"
        },
        "id": "86158051",
        "outputId": "a477b87c-a6ab-432d-b255-03fb83af6d67"
      },
      "outputs": [
        {
          "output_type": "execute_result",
          "data": {
            "text/plain": [
              "(1000, 17)"
            ]
          },
          "metadata": {},
          "execution_count": 13
        }
      ],
      "source": [
        "data.shape"
      ]
    },
    {
      "cell_type": "code",
      "execution_count": 14,
      "id": "66cbb3b8",
      "metadata": {
        "colab": {
          "base_uri": "https://localhost:8080/"
        },
        "id": "66cbb3b8",
        "outputId": "8ee48715-cb65-4053-d48e-32c015433e18"
      },
      "outputs": [
        {
          "output_type": "execute_result",
          "data": {
            "text/plain": [
              "title            object\n",
              "artist           object\n",
              "top genre        object\n",
              "year released     int64\n",
              "added            object\n",
              "bpm               int64\n",
              "nrgy              int64\n",
              "dnce              int64\n",
              "dB                int64\n",
              "live              int64\n",
              "val               int64\n",
              "dur               int64\n",
              "acous             int64\n",
              "spch              int64\n",
              "pop               int64\n",
              "top year          int64\n",
              "artist type      object\n",
              "dtype: object"
            ]
          },
          "metadata": {},
          "execution_count": 14
        }
      ],
      "source": [
        "data.dtypes"
      ]
    },
    {
      "cell_type": "markdown",
      "id": "b555d8be",
      "metadata": {
        "id": "b555d8be"
      },
      "source": [
        "# Explore Data"
      ]
    },
    {
      "cell_type": "markdown",
      "id": "d6c6074d",
      "metadata": {
        "id": "d6c6074d"
      },
      "source": [
        "remove spaces between columns names"
      ]
    },
    {
      "cell_type": "code",
      "execution_count": 29,
      "id": "4ae7fb7f",
      "metadata": {
        "colab": {
          "base_uri": "https://localhost:8080/",
          "height": 513
        },
        "id": "4ae7fb7f",
        "outputId": "017d7301-3108-4933-92d2-c54b16fe907e"
      },
      "outputs": [
        {
          "output_type": "execute_result",
          "data": {
            "text/plain": [
              "                                           title      artist    top_genre  \\\n",
              "1                    My First Kiss (feat. Ke$ha)       3OH!3    dance pop   \n",
              "2                                I Need A Dollar  Aloe Blacc     pop soul   \n",
              "3  Airplanes (feat. Hayley Williams of Paramore)       B.o.B  atl hip hop   \n",
              "4              Nothin' on You (feat. Bruno Mars)       B.o.B  atl hip hop   \n",
              "5                     Magic (feat. Rivers Cuomo)       B.o.B  atl hip hop   \n",
              "\n",
              "   year_released       added  bpm  nrgy  dnce  dB  live  val  dur  acous  \\\n",
              "1           2010  2022‑02‑17  138    89    68  -4    36   83  192      1   \n",
              "2           2010  2022‑02‑17   95    48    84  -7     9   96  243     20   \n",
              "3           2010  2022‑02‑17   93    87    66  -4     4   38  180     11   \n",
              "4           2010  2022‑02‑17  104    85    69  -6     9   74  268     39   \n",
              "5           2010  2022‑02‑17   82    93    55  -4    35   79  196      1   \n",
              "\n",
              "   spch  pop  top_year artist_type  \n",
              "1     8   68      2010         Duo  \n",
              "2     3   72      2010        Solo  \n",
              "3    12   80      2010        Solo  \n",
              "4     5   79      2010        Solo  \n",
              "5    34   71      2010        Solo  "
            ],
            "text/html": [
              "\n",
              "  <div id=\"df-40ff7ac7-07fd-4006-be71-f5d5a67df0eb\">\n",
              "    <div class=\"colab-df-container\">\n",
              "      <div>\n",
              "<style scoped>\n",
              "    .dataframe tbody tr th:only-of-type {\n",
              "        vertical-align: middle;\n",
              "    }\n",
              "\n",
              "    .dataframe tbody tr th {\n",
              "        vertical-align: top;\n",
              "    }\n",
              "\n",
              "    .dataframe thead th {\n",
              "        text-align: right;\n",
              "    }\n",
              "</style>\n",
              "<table border=\"1\" class=\"dataframe\">\n",
              "  <thead>\n",
              "    <tr style=\"text-align: right;\">\n",
              "      <th></th>\n",
              "      <th>title</th>\n",
              "      <th>artist</th>\n",
              "      <th>top_genre</th>\n",
              "      <th>year_released</th>\n",
              "      <th>added</th>\n",
              "      <th>bpm</th>\n",
              "      <th>nrgy</th>\n",
              "      <th>dnce</th>\n",
              "      <th>dB</th>\n",
              "      <th>live</th>\n",
              "      <th>val</th>\n",
              "      <th>dur</th>\n",
              "      <th>acous</th>\n",
              "      <th>spch</th>\n",
              "      <th>pop</th>\n",
              "      <th>top_year</th>\n",
              "      <th>artist_type</th>\n",
              "    </tr>\n",
              "  </thead>\n",
              "  <tbody>\n",
              "    <tr>\n",
              "      <th>1</th>\n",
              "      <td>My First Kiss (feat. Ke$ha)</td>\n",
              "      <td>3OH!3</td>\n",
              "      <td>dance pop</td>\n",
              "      <td>2010</td>\n",
              "      <td>2022‑02‑17</td>\n",
              "      <td>138</td>\n",
              "      <td>89</td>\n",
              "      <td>68</td>\n",
              "      <td>-4</td>\n",
              "      <td>36</td>\n",
              "      <td>83</td>\n",
              "      <td>192</td>\n",
              "      <td>1</td>\n",
              "      <td>8</td>\n",
              "      <td>68</td>\n",
              "      <td>2010</td>\n",
              "      <td>Duo</td>\n",
              "    </tr>\n",
              "    <tr>\n",
              "      <th>2</th>\n",
              "      <td>I Need A Dollar</td>\n",
              "      <td>Aloe Blacc</td>\n",
              "      <td>pop soul</td>\n",
              "      <td>2010</td>\n",
              "      <td>2022‑02‑17</td>\n",
              "      <td>95</td>\n",
              "      <td>48</td>\n",
              "      <td>84</td>\n",
              "      <td>-7</td>\n",
              "      <td>9</td>\n",
              "      <td>96</td>\n",
              "      <td>243</td>\n",
              "      <td>20</td>\n",
              "      <td>3</td>\n",
              "      <td>72</td>\n",
              "      <td>2010</td>\n",
              "      <td>Solo</td>\n",
              "    </tr>\n",
              "    <tr>\n",
              "      <th>3</th>\n",
              "      <td>Airplanes (feat. Hayley Williams of Paramore)</td>\n",
              "      <td>B.o.B</td>\n",
              "      <td>atl hip hop</td>\n",
              "      <td>2010</td>\n",
              "      <td>2022‑02‑17</td>\n",
              "      <td>93</td>\n",
              "      <td>87</td>\n",
              "      <td>66</td>\n",
              "      <td>-4</td>\n",
              "      <td>4</td>\n",
              "      <td>38</td>\n",
              "      <td>180</td>\n",
              "      <td>11</td>\n",
              "      <td>12</td>\n",
              "      <td>80</td>\n",
              "      <td>2010</td>\n",
              "      <td>Solo</td>\n",
              "    </tr>\n",
              "    <tr>\n",
              "      <th>4</th>\n",
              "      <td>Nothin' on You (feat. Bruno Mars)</td>\n",
              "      <td>B.o.B</td>\n",
              "      <td>atl hip hop</td>\n",
              "      <td>2010</td>\n",
              "      <td>2022‑02‑17</td>\n",
              "      <td>104</td>\n",
              "      <td>85</td>\n",
              "      <td>69</td>\n",
              "      <td>-6</td>\n",
              "      <td>9</td>\n",
              "      <td>74</td>\n",
              "      <td>268</td>\n",
              "      <td>39</td>\n",
              "      <td>5</td>\n",
              "      <td>79</td>\n",
              "      <td>2010</td>\n",
              "      <td>Solo</td>\n",
              "    </tr>\n",
              "    <tr>\n",
              "      <th>5</th>\n",
              "      <td>Magic (feat. Rivers Cuomo)</td>\n",
              "      <td>B.o.B</td>\n",
              "      <td>atl hip hop</td>\n",
              "      <td>2010</td>\n",
              "      <td>2022‑02‑17</td>\n",
              "      <td>82</td>\n",
              "      <td>93</td>\n",
              "      <td>55</td>\n",
              "      <td>-4</td>\n",
              "      <td>35</td>\n",
              "      <td>79</td>\n",
              "      <td>196</td>\n",
              "      <td>1</td>\n",
              "      <td>34</td>\n",
              "      <td>71</td>\n",
              "      <td>2010</td>\n",
              "      <td>Solo</td>\n",
              "    </tr>\n",
              "  </tbody>\n",
              "</table>\n",
              "</div>\n",
              "      <button class=\"colab-df-convert\" onclick=\"convertToInteractive('df-40ff7ac7-07fd-4006-be71-f5d5a67df0eb')\"\n",
              "              title=\"Convert this dataframe to an interactive table.\"\n",
              "              style=\"display:none;\">\n",
              "        \n",
              "  <svg xmlns=\"http://www.w3.org/2000/svg\" height=\"24px\"viewBox=\"0 0 24 24\"\n",
              "       width=\"24px\">\n",
              "    <path d=\"M0 0h24v24H0V0z\" fill=\"none\"/>\n",
              "    <path d=\"M18.56 5.44l.94 2.06.94-2.06 2.06-.94-2.06-.94-.94-2.06-.94 2.06-2.06.94zm-11 1L8.5 8.5l.94-2.06 2.06-.94-2.06-.94L8.5 2.5l-.94 2.06-2.06.94zm10 10l.94 2.06.94-2.06 2.06-.94-2.06-.94-.94-2.06-.94 2.06-2.06.94z\"/><path d=\"M17.41 7.96l-1.37-1.37c-.4-.4-.92-.59-1.43-.59-.52 0-1.04.2-1.43.59L10.3 9.45l-7.72 7.72c-.78.78-.78 2.05 0 2.83L4 21.41c.39.39.9.59 1.41.59.51 0 1.02-.2 1.41-.59l7.78-7.78 2.81-2.81c.8-.78.8-2.07 0-2.86zM5.41 20L4 18.59l7.72-7.72 1.47 1.35L5.41 20z\"/>\n",
              "  </svg>\n",
              "      </button>\n",
              "      \n",
              "  <style>\n",
              "    .colab-df-container {\n",
              "      display:flex;\n",
              "      flex-wrap:wrap;\n",
              "      gap: 12px;\n",
              "    }\n",
              "\n",
              "    .colab-df-convert {\n",
              "      background-color: #E8F0FE;\n",
              "      border: none;\n",
              "      border-radius: 50%;\n",
              "      cursor: pointer;\n",
              "      display: none;\n",
              "      fill: #1967D2;\n",
              "      height: 32px;\n",
              "      padding: 0 0 0 0;\n",
              "      width: 32px;\n",
              "    }\n",
              "\n",
              "    .colab-df-convert:hover {\n",
              "      background-color: #E2EBFA;\n",
              "      box-shadow: 0px 1px 2px rgba(60, 64, 67, 0.3), 0px 1px 3px 1px rgba(60, 64, 67, 0.15);\n",
              "      fill: #174EA6;\n",
              "    }\n",
              "\n",
              "    [theme=dark] .colab-df-convert {\n",
              "      background-color: #3B4455;\n",
              "      fill: #D2E3FC;\n",
              "    }\n",
              "\n",
              "    [theme=dark] .colab-df-convert:hover {\n",
              "      background-color: #434B5C;\n",
              "      box-shadow: 0px 1px 3px 1px rgba(0, 0, 0, 0.15);\n",
              "      filter: drop-shadow(0px 1px 2px rgba(0, 0, 0, 0.3));\n",
              "      fill: #FFFFFF;\n",
              "    }\n",
              "  </style>\n",
              "\n",
              "      <script>\n",
              "        const buttonEl =\n",
              "          document.querySelector('#df-40ff7ac7-07fd-4006-be71-f5d5a67df0eb button.colab-df-convert');\n",
              "        buttonEl.style.display =\n",
              "          google.colab.kernel.accessAllowed ? 'block' : 'none';\n",
              "\n",
              "        async function convertToInteractive(key) {\n",
              "          const element = document.querySelector('#df-40ff7ac7-07fd-4006-be71-f5d5a67df0eb');\n",
              "          const dataTable =\n",
              "            await google.colab.kernel.invokeFunction('convertToInteractive',\n",
              "                                                     [key], {});\n",
              "          if (!dataTable) return;\n",
              "\n",
              "          const docLinkHtml = 'Like what you see? Visit the ' +\n",
              "            '<a target=\"_blank\" href=https://colab.research.google.com/notebooks/data_table.ipynb>data table notebook</a>'\n",
              "            + ' to learn more about interactive tables.';\n",
              "          element.innerHTML = '';\n",
              "          dataTable['output_type'] = 'display_data';\n",
              "          await google.colab.output.renderOutput(dataTable, element);\n",
              "          const docLink = document.createElement('div');\n",
              "          docLink.innerHTML = docLinkHtml;\n",
              "          element.appendChild(docLink);\n",
              "        }\n",
              "      </script>\n",
              "    </div>\n",
              "  </div>\n",
              "  "
            ]
          },
          "metadata": {},
          "execution_count": 29
        }
      ],
      "source": [
        "data.columns = data.columns.str.replace(' ', '_')\n",
        "\n",
        "data.head()"
      ]
    },
    {
      "cell_type": "code",
      "execution_count": 30,
      "id": "59a5075b",
      "metadata": {
        "colab": {
          "base_uri": "https://localhost:8080/"
        },
        "id": "59a5075b",
        "outputId": "d05be6ca-94e9-411a-ddde-44ec54eab034"
      },
      "outputs": [
        {
          "output_type": "stream",
          "name": "stdout",
          "text": [
            "<class 'pandas.core.frame.DataFrame'>\n",
            "Int64Index: 966 entries, 1 to 999\n",
            "Data columns (total 17 columns):\n",
            " #   Column         Non-Null Count  Dtype \n",
            "---  ------         --------------  ----- \n",
            " 0   title          966 non-null    object\n",
            " 1   artist         966 non-null    object\n",
            " 2   top_genre      966 non-null    object\n",
            " 3   year_released  966 non-null    int64 \n",
            " 4   added          966 non-null    object\n",
            " 5   bpm            966 non-null    int64 \n",
            " 6   nrgy           966 non-null    int64 \n",
            " 7   dnce           966 non-null    int64 \n",
            " 8   dB             966 non-null    int64 \n",
            " 9   live           966 non-null    int64 \n",
            " 10  val            966 non-null    int64 \n",
            " 11  dur            966 non-null    int64 \n",
            " 12  acous          966 non-null    int64 \n",
            " 13  spch           966 non-null    int64 \n",
            " 14  pop            966 non-null    int64 \n",
            " 15  top_year       966 non-null    int64 \n",
            " 16  artist_type    966 non-null    object\n",
            "dtypes: int64(12), object(5)\n",
            "memory usage: 135.8+ KB\n"
          ]
        }
      ],
      "source": [
        "data.info()"
      ]
    },
    {
      "cell_type": "markdown",
      "id": "76396b2b",
      "metadata": {
        "id": "76396b2b"
      },
      "source": [
        "checking for duplicates and missing values"
      ]
    },
    {
      "cell_type": "code",
      "execution_count": 17,
      "id": "aa89d10a",
      "metadata": {
        "colab": {
          "base_uri": "https://localhost:8080/"
        },
        "id": "aa89d10a",
        "outputId": "54923216-a5af-40bb-fa48-3d87265fb67c"
      },
      "outputs": [
        {
          "output_type": "execute_result",
          "data": {
            "text/plain": [
              "title            0\n",
              "artist           0\n",
              "top_genre        0\n",
              "year_released    0\n",
              "added            0\n",
              "bpm              0\n",
              "nrgy             0\n",
              "dnce             0\n",
              "dB               0\n",
              "live             0\n",
              "val              0\n",
              "dur              0\n",
              "acous            0\n",
              "spch             0\n",
              "pop              0\n",
              "top_year         0\n",
              "artist_type      0\n",
              "dtype: int64"
            ]
          },
          "metadata": {},
          "execution_count": 17
        }
      ],
      "source": [
        "data.isnull().sum()"
      ]
    },
    {
      "cell_type": "code",
      "execution_count": 18,
      "id": "47ce3390",
      "metadata": {
        "colab": {
          "base_uri": "https://localhost:8080/"
        },
        "id": "47ce3390",
        "outputId": "2043a8b3-0ae4-4537-c463-123d2cd47cd7"
      },
      "outputs": [
        {
          "output_type": "execute_result",
          "data": {
            "text/plain": [
              "0"
            ]
          },
          "metadata": {},
          "execution_count": 18
        }
      ],
      "source": [
        "data.duplicated().sum()"
      ]
    },
    {
      "cell_type": "code",
      "execution_count": 19,
      "id": "083261e6",
      "metadata": {
        "colab": {
          "base_uri": "https://localhost:8080/",
          "height": 364
        },
        "id": "083261e6",
        "outputId": "c30b4f5e-33e1-4475-b26e-cd1c8582e18f"
      },
      "outputs": [
        {
          "output_type": "execute_result",
          "data": {
            "text/plain": [
              "       year_released          bpm         nrgy         dnce           dB  \\\n",
              "count    1000.000000  1000.000000  1000.000000  1000.000000  1000.000000   \n",
              "mean     2014.390000   121.262000    69.502000    66.876000    -5.663000   \n",
              "std         3.241359    26.238022    15.961415    13.121921     2.025224   \n",
              "min      1975.000000    65.000000     6.000000    19.000000   -18.000000   \n",
              "25%      2012.000000   100.000000    59.000000    59.000000    -7.000000   \n",
              "50%      2014.000000   122.000000    71.000000    68.000000    -5.000000   \n",
              "75%      2017.000000   134.000000    81.250000    75.000000    -4.000000   \n",
              "max      2021.000000   206.000000    98.000000    96.000000    -1.000000   \n",
              "\n",
              "              live          val          dur       acous         spch  \\\n",
              "count  1000.000000  1000.000000  1000.000000  1000.00000  1000.000000   \n",
              "mean     17.911000    50.901000   220.406000    14.36900    10.064000   \n",
              "std      13.431511    21.563399    39.927677    19.45403     9.276743   \n",
              "min       2.000000     4.000000   113.000000     0.00000     2.000000   \n",
              "25%       9.000000    35.000000   197.000000     2.00000     4.000000   \n",
              "50%      12.000000    50.500000   216.000000     6.00000     6.000000   \n",
              "75%      23.000000    68.000000   237.000000    19.00000    12.000000   \n",
              "max      83.000000    97.000000   688.000000    98.00000    53.000000   \n",
              "\n",
              "               pop     top_year  \n",
              "count  1000.000000  1000.000000  \n",
              "mean     74.840000  2014.500000  \n",
              "std       8.807836     2.873719  \n",
              "min      35.000000  2010.000000  \n",
              "25%      70.000000  2012.000000  \n",
              "50%      76.000000  2014.500000  \n",
              "75%      81.000000  2017.000000  \n",
              "max      95.000000  2019.000000  "
            ],
            "text/html": [
              "\n",
              "  <div id=\"df-8fb15872-912a-4306-9188-b22bdf5ed669\">\n",
              "    <div class=\"colab-df-container\">\n",
              "      <div>\n",
              "<style scoped>\n",
              "    .dataframe tbody tr th:only-of-type {\n",
              "        vertical-align: middle;\n",
              "    }\n",
              "\n",
              "    .dataframe tbody tr th {\n",
              "        vertical-align: top;\n",
              "    }\n",
              "\n",
              "    .dataframe thead th {\n",
              "        text-align: right;\n",
              "    }\n",
              "</style>\n",
              "<table border=\"1\" class=\"dataframe\">\n",
              "  <thead>\n",
              "    <tr style=\"text-align: right;\">\n",
              "      <th></th>\n",
              "      <th>year_released</th>\n",
              "      <th>bpm</th>\n",
              "      <th>nrgy</th>\n",
              "      <th>dnce</th>\n",
              "      <th>dB</th>\n",
              "      <th>live</th>\n",
              "      <th>val</th>\n",
              "      <th>dur</th>\n",
              "      <th>acous</th>\n",
              "      <th>spch</th>\n",
              "      <th>pop</th>\n",
              "      <th>top_year</th>\n",
              "    </tr>\n",
              "  </thead>\n",
              "  <tbody>\n",
              "    <tr>\n",
              "      <th>count</th>\n",
              "      <td>1000.000000</td>\n",
              "      <td>1000.000000</td>\n",
              "      <td>1000.000000</td>\n",
              "      <td>1000.000000</td>\n",
              "      <td>1000.000000</td>\n",
              "      <td>1000.000000</td>\n",
              "      <td>1000.000000</td>\n",
              "      <td>1000.000000</td>\n",
              "      <td>1000.00000</td>\n",
              "      <td>1000.000000</td>\n",
              "      <td>1000.000000</td>\n",
              "      <td>1000.000000</td>\n",
              "    </tr>\n",
              "    <tr>\n",
              "      <th>mean</th>\n",
              "      <td>2014.390000</td>\n",
              "      <td>121.262000</td>\n",
              "      <td>69.502000</td>\n",
              "      <td>66.876000</td>\n",
              "      <td>-5.663000</td>\n",
              "      <td>17.911000</td>\n",
              "      <td>50.901000</td>\n",
              "      <td>220.406000</td>\n",
              "      <td>14.36900</td>\n",
              "      <td>10.064000</td>\n",
              "      <td>74.840000</td>\n",
              "      <td>2014.500000</td>\n",
              "    </tr>\n",
              "    <tr>\n",
              "      <th>std</th>\n",
              "      <td>3.241359</td>\n",
              "      <td>26.238022</td>\n",
              "      <td>15.961415</td>\n",
              "      <td>13.121921</td>\n",
              "      <td>2.025224</td>\n",
              "      <td>13.431511</td>\n",
              "      <td>21.563399</td>\n",
              "      <td>39.927677</td>\n",
              "      <td>19.45403</td>\n",
              "      <td>9.276743</td>\n",
              "      <td>8.807836</td>\n",
              "      <td>2.873719</td>\n",
              "    </tr>\n",
              "    <tr>\n",
              "      <th>min</th>\n",
              "      <td>1975.000000</td>\n",
              "      <td>65.000000</td>\n",
              "      <td>6.000000</td>\n",
              "      <td>19.000000</td>\n",
              "      <td>-18.000000</td>\n",
              "      <td>2.000000</td>\n",
              "      <td>4.000000</td>\n",
              "      <td>113.000000</td>\n",
              "      <td>0.00000</td>\n",
              "      <td>2.000000</td>\n",
              "      <td>35.000000</td>\n",
              "      <td>2010.000000</td>\n",
              "    </tr>\n",
              "    <tr>\n",
              "      <th>25%</th>\n",
              "      <td>2012.000000</td>\n",
              "      <td>100.000000</td>\n",
              "      <td>59.000000</td>\n",
              "      <td>59.000000</td>\n",
              "      <td>-7.000000</td>\n",
              "      <td>9.000000</td>\n",
              "      <td>35.000000</td>\n",
              "      <td>197.000000</td>\n",
              "      <td>2.00000</td>\n",
              "      <td>4.000000</td>\n",
              "      <td>70.000000</td>\n",
              "      <td>2012.000000</td>\n",
              "    </tr>\n",
              "    <tr>\n",
              "      <th>50%</th>\n",
              "      <td>2014.000000</td>\n",
              "      <td>122.000000</td>\n",
              "      <td>71.000000</td>\n",
              "      <td>68.000000</td>\n",
              "      <td>-5.000000</td>\n",
              "      <td>12.000000</td>\n",
              "      <td>50.500000</td>\n",
              "      <td>216.000000</td>\n",
              "      <td>6.00000</td>\n",
              "      <td>6.000000</td>\n",
              "      <td>76.000000</td>\n",
              "      <td>2014.500000</td>\n",
              "    </tr>\n",
              "    <tr>\n",
              "      <th>75%</th>\n",
              "      <td>2017.000000</td>\n",
              "      <td>134.000000</td>\n",
              "      <td>81.250000</td>\n",
              "      <td>75.000000</td>\n",
              "      <td>-4.000000</td>\n",
              "      <td>23.000000</td>\n",
              "      <td>68.000000</td>\n",
              "      <td>237.000000</td>\n",
              "      <td>19.00000</td>\n",
              "      <td>12.000000</td>\n",
              "      <td>81.000000</td>\n",
              "      <td>2017.000000</td>\n",
              "    </tr>\n",
              "    <tr>\n",
              "      <th>max</th>\n",
              "      <td>2021.000000</td>\n",
              "      <td>206.000000</td>\n",
              "      <td>98.000000</td>\n",
              "      <td>96.000000</td>\n",
              "      <td>-1.000000</td>\n",
              "      <td>83.000000</td>\n",
              "      <td>97.000000</td>\n",
              "      <td>688.000000</td>\n",
              "      <td>98.00000</td>\n",
              "      <td>53.000000</td>\n",
              "      <td>95.000000</td>\n",
              "      <td>2019.000000</td>\n",
              "    </tr>\n",
              "  </tbody>\n",
              "</table>\n",
              "</div>\n",
              "      <button class=\"colab-df-convert\" onclick=\"convertToInteractive('df-8fb15872-912a-4306-9188-b22bdf5ed669')\"\n",
              "              title=\"Convert this dataframe to an interactive table.\"\n",
              "              style=\"display:none;\">\n",
              "        \n",
              "  <svg xmlns=\"http://www.w3.org/2000/svg\" height=\"24px\"viewBox=\"0 0 24 24\"\n",
              "       width=\"24px\">\n",
              "    <path d=\"M0 0h24v24H0V0z\" fill=\"none\"/>\n",
              "    <path d=\"M18.56 5.44l.94 2.06.94-2.06 2.06-.94-2.06-.94-.94-2.06-.94 2.06-2.06.94zm-11 1L8.5 8.5l.94-2.06 2.06-.94-2.06-.94L8.5 2.5l-.94 2.06-2.06.94zm10 10l.94 2.06.94-2.06 2.06-.94-2.06-.94-.94-2.06-.94 2.06-2.06.94z\"/><path d=\"M17.41 7.96l-1.37-1.37c-.4-.4-.92-.59-1.43-.59-.52 0-1.04.2-1.43.59L10.3 9.45l-7.72 7.72c-.78.78-.78 2.05 0 2.83L4 21.41c.39.39.9.59 1.41.59.51 0 1.02-.2 1.41-.59l7.78-7.78 2.81-2.81c.8-.78.8-2.07 0-2.86zM5.41 20L4 18.59l7.72-7.72 1.47 1.35L5.41 20z\"/>\n",
              "  </svg>\n",
              "      </button>\n",
              "      \n",
              "  <style>\n",
              "    .colab-df-container {\n",
              "      display:flex;\n",
              "      flex-wrap:wrap;\n",
              "      gap: 12px;\n",
              "    }\n",
              "\n",
              "    .colab-df-convert {\n",
              "      background-color: #E8F0FE;\n",
              "      border: none;\n",
              "      border-radius: 50%;\n",
              "      cursor: pointer;\n",
              "      display: none;\n",
              "      fill: #1967D2;\n",
              "      height: 32px;\n",
              "      padding: 0 0 0 0;\n",
              "      width: 32px;\n",
              "    }\n",
              "\n",
              "    .colab-df-convert:hover {\n",
              "      background-color: #E2EBFA;\n",
              "      box-shadow: 0px 1px 2px rgba(60, 64, 67, 0.3), 0px 1px 3px 1px rgba(60, 64, 67, 0.15);\n",
              "      fill: #174EA6;\n",
              "    }\n",
              "\n",
              "    [theme=dark] .colab-df-convert {\n",
              "      background-color: #3B4455;\n",
              "      fill: #D2E3FC;\n",
              "    }\n",
              "\n",
              "    [theme=dark] .colab-df-convert:hover {\n",
              "      background-color: #434B5C;\n",
              "      box-shadow: 0px 1px 3px 1px rgba(0, 0, 0, 0.15);\n",
              "      filter: drop-shadow(0px 1px 2px rgba(0, 0, 0, 0.3));\n",
              "      fill: #FFFFFF;\n",
              "    }\n",
              "  </style>\n",
              "\n",
              "      <script>\n",
              "        const buttonEl =\n",
              "          document.querySelector('#df-8fb15872-912a-4306-9188-b22bdf5ed669 button.colab-df-convert');\n",
              "        buttonEl.style.display =\n",
              "          google.colab.kernel.accessAllowed ? 'block' : 'none';\n",
              "\n",
              "        async function convertToInteractive(key) {\n",
              "          const element = document.querySelector('#df-8fb15872-912a-4306-9188-b22bdf5ed669');\n",
              "          const dataTable =\n",
              "            await google.colab.kernel.invokeFunction('convertToInteractive',\n",
              "                                                     [key], {});\n",
              "          if (!dataTable) return;\n",
              "\n",
              "          const docLinkHtml = 'Like what you see? Visit the ' +\n",
              "            '<a target=\"_blank\" href=https://colab.research.google.com/notebooks/data_table.ipynb>data table notebook</a>'\n",
              "            + ' to learn more about interactive tables.';\n",
              "          element.innerHTML = '';\n",
              "          dataTable['output_type'] = 'display_data';\n",
              "          await google.colab.output.renderOutput(dataTable, element);\n",
              "          const docLink = document.createElement('div');\n",
              "          docLink.innerHTML = docLinkHtml;\n",
              "          element.appendChild(docLink);\n",
              "        }\n",
              "      </script>\n",
              "    </div>\n",
              "  </div>\n",
              "  "
            ]
          },
          "metadata": {},
          "execution_count": 19
        }
      ],
      "source": [
        "data.describe()"
      ]
    },
    {
      "cell_type": "code",
      "source": [
        "data.describe(include=\"O\")"
      ],
      "metadata": {
        "colab": {
          "base_uri": "https://localhost:8080/",
          "height": 174
        },
        "id": "zDNx1-Ow5okV",
        "outputId": "544d378e-9799-4376-959f-666f539c026e"
      },
      "id": "zDNx1-Ow5okV",
      "execution_count": 20,
      "outputs": [
        {
          "output_type": "execute_result",
          "data": {
            "text/plain": [
              "           title        artist  top_genre       added artist_type\n",
              "count       1000          1000       1000        1000        1000\n",
              "unique       945           444        132          26           4\n",
              "top     Paradise  Taylor Swift  dance pop  2020‑06‑22        Solo\n",
              "freq           3            21        361         276         748"
            ],
            "text/html": [
              "\n",
              "  <div id=\"df-e7948328-3d98-4db0-855c-e7b69dfba595\">\n",
              "    <div class=\"colab-df-container\">\n",
              "      <div>\n",
              "<style scoped>\n",
              "    .dataframe tbody tr th:only-of-type {\n",
              "        vertical-align: middle;\n",
              "    }\n",
              "\n",
              "    .dataframe tbody tr th {\n",
              "        vertical-align: top;\n",
              "    }\n",
              "\n",
              "    .dataframe thead th {\n",
              "        text-align: right;\n",
              "    }\n",
              "</style>\n",
              "<table border=\"1\" class=\"dataframe\">\n",
              "  <thead>\n",
              "    <tr style=\"text-align: right;\">\n",
              "      <th></th>\n",
              "      <th>title</th>\n",
              "      <th>artist</th>\n",
              "      <th>top_genre</th>\n",
              "      <th>added</th>\n",
              "      <th>artist_type</th>\n",
              "    </tr>\n",
              "  </thead>\n",
              "  <tbody>\n",
              "    <tr>\n",
              "      <th>count</th>\n",
              "      <td>1000</td>\n",
              "      <td>1000</td>\n",
              "      <td>1000</td>\n",
              "      <td>1000</td>\n",
              "      <td>1000</td>\n",
              "    </tr>\n",
              "    <tr>\n",
              "      <th>unique</th>\n",
              "      <td>945</td>\n",
              "      <td>444</td>\n",
              "      <td>132</td>\n",
              "      <td>26</td>\n",
              "      <td>4</td>\n",
              "    </tr>\n",
              "    <tr>\n",
              "      <th>top</th>\n",
              "      <td>Paradise</td>\n",
              "      <td>Taylor Swift</td>\n",
              "      <td>dance pop</td>\n",
              "      <td>2020‑06‑22</td>\n",
              "      <td>Solo</td>\n",
              "    </tr>\n",
              "    <tr>\n",
              "      <th>freq</th>\n",
              "      <td>3</td>\n",
              "      <td>21</td>\n",
              "      <td>361</td>\n",
              "      <td>276</td>\n",
              "      <td>748</td>\n",
              "    </tr>\n",
              "  </tbody>\n",
              "</table>\n",
              "</div>\n",
              "      <button class=\"colab-df-convert\" onclick=\"convertToInteractive('df-e7948328-3d98-4db0-855c-e7b69dfba595')\"\n",
              "              title=\"Convert this dataframe to an interactive table.\"\n",
              "              style=\"display:none;\">\n",
              "        \n",
              "  <svg xmlns=\"http://www.w3.org/2000/svg\" height=\"24px\"viewBox=\"0 0 24 24\"\n",
              "       width=\"24px\">\n",
              "    <path d=\"M0 0h24v24H0V0z\" fill=\"none\"/>\n",
              "    <path d=\"M18.56 5.44l.94 2.06.94-2.06 2.06-.94-2.06-.94-.94-2.06-.94 2.06-2.06.94zm-11 1L8.5 8.5l.94-2.06 2.06-.94-2.06-.94L8.5 2.5l-.94 2.06-2.06.94zm10 10l.94 2.06.94-2.06 2.06-.94-2.06-.94-.94-2.06-.94 2.06-2.06.94z\"/><path d=\"M17.41 7.96l-1.37-1.37c-.4-.4-.92-.59-1.43-.59-.52 0-1.04.2-1.43.59L10.3 9.45l-7.72 7.72c-.78.78-.78 2.05 0 2.83L4 21.41c.39.39.9.59 1.41.59.51 0 1.02-.2 1.41-.59l7.78-7.78 2.81-2.81c.8-.78.8-2.07 0-2.86zM5.41 20L4 18.59l7.72-7.72 1.47 1.35L5.41 20z\"/>\n",
              "  </svg>\n",
              "      </button>\n",
              "      \n",
              "  <style>\n",
              "    .colab-df-container {\n",
              "      display:flex;\n",
              "      flex-wrap:wrap;\n",
              "      gap: 12px;\n",
              "    }\n",
              "\n",
              "    .colab-df-convert {\n",
              "      background-color: #E8F0FE;\n",
              "      border: none;\n",
              "      border-radius: 50%;\n",
              "      cursor: pointer;\n",
              "      display: none;\n",
              "      fill: #1967D2;\n",
              "      height: 32px;\n",
              "      padding: 0 0 0 0;\n",
              "      width: 32px;\n",
              "    }\n",
              "\n",
              "    .colab-df-convert:hover {\n",
              "      background-color: #E2EBFA;\n",
              "      box-shadow: 0px 1px 2px rgba(60, 64, 67, 0.3), 0px 1px 3px 1px rgba(60, 64, 67, 0.15);\n",
              "      fill: #174EA6;\n",
              "    }\n",
              "\n",
              "    [theme=dark] .colab-df-convert {\n",
              "      background-color: #3B4455;\n",
              "      fill: #D2E3FC;\n",
              "    }\n",
              "\n",
              "    [theme=dark] .colab-df-convert:hover {\n",
              "      background-color: #434B5C;\n",
              "      box-shadow: 0px 1px 3px 1px rgba(0, 0, 0, 0.15);\n",
              "      filter: drop-shadow(0px 1px 2px rgba(0, 0, 0, 0.3));\n",
              "      fill: #FFFFFF;\n",
              "    }\n",
              "  </style>\n",
              "\n",
              "      <script>\n",
              "        const buttonEl =\n",
              "          document.querySelector('#df-e7948328-3d98-4db0-855c-e7b69dfba595 button.colab-df-convert');\n",
              "        buttonEl.style.display =\n",
              "          google.colab.kernel.accessAllowed ? 'block' : 'none';\n",
              "\n",
              "        async function convertToInteractive(key) {\n",
              "          const element = document.querySelector('#df-e7948328-3d98-4db0-855c-e7b69dfba595');\n",
              "          const dataTable =\n",
              "            await google.colab.kernel.invokeFunction('convertToInteractive',\n",
              "                                                     [key], {});\n",
              "          if (!dataTable) return;\n",
              "\n",
              "          const docLinkHtml = 'Like what you see? Visit the ' +\n",
              "            '<a target=\"_blank\" href=https://colab.research.google.com/notebooks/data_table.ipynb>data table notebook</a>'\n",
              "            + ' to learn more about interactive tables.';\n",
              "          element.innerHTML = '';\n",
              "          dataTable['output_type'] = 'display_data';\n",
              "          await google.colab.output.renderOutput(dataTable, element);\n",
              "          const docLink = document.createElement('div');\n",
              "          docLink.innerHTML = docLinkHtml;\n",
              "          element.appendChild(docLink);\n",
              "        }\n",
              "      </script>\n",
              "    </div>\n",
              "  </div>\n",
              "  "
            ]
          },
          "metadata": {},
          "execution_count": 20
        }
      ]
    },
    {
      "cell_type": "code",
      "execution_count": 21,
      "id": "ec78377e",
      "metadata": {
        "id": "ec78377e"
      },
      "outputs": [],
      "source": [
        "data = data[(data['year_released'] >= 2010) & (data['year_released'] <= 2019)]"
      ]
    },
    {
      "cell_type": "code",
      "execution_count": 67,
      "id": "beb79e27",
      "metadata": {
        "colab": {
          "base_uri": "https://localhost:8080/",
          "height": 280
        },
        "id": "beb79e27",
        "outputId": "a80cc83a-c72d-48b0-8c36-c97c57b8a049"
      },
      "outputs": [
        {
          "output_type": "execute_result",
          "data": {
            "text/plain": [
              "                         title      artist  top_genre  year_released  \\\n",
              "1  My First Kiss (feat. Ke$ha)       3OH!3  dance pop           2010   \n",
              "2              I Need A Dollar  Aloe Blacc   pop soul           2010   \n",
              "\n",
              "        added  bpm  nrgy  dnce  dB  live  val  dur  acous  spch  pop  \\\n",
              "1  2022‑02‑17  138    89    68  -4    36   83  192      1     8   68   \n",
              "2  2022‑02‑17   95    48    84  -7     9   96  243     20     3   72   \n",
              "\n",
              "   top_year artist_type  \n",
              "1      2010         Duo  \n",
              "2      2010        Solo  "
            ],
            "text/html": [
              "\n",
              "  <div id=\"df-c51201ec-50ff-4135-90a1-1ad7a5eff36b\">\n",
              "    <div class=\"colab-df-container\">\n",
              "      <div>\n",
              "<style scoped>\n",
              "    .dataframe tbody tr th:only-of-type {\n",
              "        vertical-align: middle;\n",
              "    }\n",
              "\n",
              "    .dataframe tbody tr th {\n",
              "        vertical-align: top;\n",
              "    }\n",
              "\n",
              "    .dataframe thead th {\n",
              "        text-align: right;\n",
              "    }\n",
              "</style>\n",
              "<table border=\"1\" class=\"dataframe\">\n",
              "  <thead>\n",
              "    <tr style=\"text-align: right;\">\n",
              "      <th></th>\n",
              "      <th>title</th>\n",
              "      <th>artist</th>\n",
              "      <th>top_genre</th>\n",
              "      <th>year_released</th>\n",
              "      <th>added</th>\n",
              "      <th>bpm</th>\n",
              "      <th>nrgy</th>\n",
              "      <th>dnce</th>\n",
              "      <th>dB</th>\n",
              "      <th>live</th>\n",
              "      <th>val</th>\n",
              "      <th>dur</th>\n",
              "      <th>acous</th>\n",
              "      <th>spch</th>\n",
              "      <th>pop</th>\n",
              "      <th>top_year</th>\n",
              "      <th>artist_type</th>\n",
              "    </tr>\n",
              "  </thead>\n",
              "  <tbody>\n",
              "    <tr>\n",
              "      <th>1</th>\n",
              "      <td>My First Kiss (feat. Ke$ha)</td>\n",
              "      <td>3OH!3</td>\n",
              "      <td>dance pop</td>\n",
              "      <td>2010</td>\n",
              "      <td>2022‑02‑17</td>\n",
              "      <td>138</td>\n",
              "      <td>89</td>\n",
              "      <td>68</td>\n",
              "      <td>-4</td>\n",
              "      <td>36</td>\n",
              "      <td>83</td>\n",
              "      <td>192</td>\n",
              "      <td>1</td>\n",
              "      <td>8</td>\n",
              "      <td>68</td>\n",
              "      <td>2010</td>\n",
              "      <td>Duo</td>\n",
              "    </tr>\n",
              "    <tr>\n",
              "      <th>2</th>\n",
              "      <td>I Need A Dollar</td>\n",
              "      <td>Aloe Blacc</td>\n",
              "      <td>pop soul</td>\n",
              "      <td>2010</td>\n",
              "      <td>2022‑02‑17</td>\n",
              "      <td>95</td>\n",
              "      <td>48</td>\n",
              "      <td>84</td>\n",
              "      <td>-7</td>\n",
              "      <td>9</td>\n",
              "      <td>96</td>\n",
              "      <td>243</td>\n",
              "      <td>20</td>\n",
              "      <td>3</td>\n",
              "      <td>72</td>\n",
              "      <td>2010</td>\n",
              "      <td>Solo</td>\n",
              "    </tr>\n",
              "  </tbody>\n",
              "</table>\n",
              "</div>\n",
              "      <button class=\"colab-df-convert\" onclick=\"convertToInteractive('df-c51201ec-50ff-4135-90a1-1ad7a5eff36b')\"\n",
              "              title=\"Convert this dataframe to an interactive table.\"\n",
              "              style=\"display:none;\">\n",
              "        \n",
              "  <svg xmlns=\"http://www.w3.org/2000/svg\" height=\"24px\"viewBox=\"0 0 24 24\"\n",
              "       width=\"24px\">\n",
              "    <path d=\"M0 0h24v24H0V0z\" fill=\"none\"/>\n",
              "    <path d=\"M18.56 5.44l.94 2.06.94-2.06 2.06-.94-2.06-.94-.94-2.06-.94 2.06-2.06.94zm-11 1L8.5 8.5l.94-2.06 2.06-.94-2.06-.94L8.5 2.5l-.94 2.06-2.06.94zm10 10l.94 2.06.94-2.06 2.06-.94-2.06-.94-.94-2.06-.94 2.06-2.06.94z\"/><path d=\"M17.41 7.96l-1.37-1.37c-.4-.4-.92-.59-1.43-.59-.52 0-1.04.2-1.43.59L10.3 9.45l-7.72 7.72c-.78.78-.78 2.05 0 2.83L4 21.41c.39.39.9.59 1.41.59.51 0 1.02-.2 1.41-.59l7.78-7.78 2.81-2.81c.8-.78.8-2.07 0-2.86zM5.41 20L4 18.59l7.72-7.72 1.47 1.35L5.41 20z\"/>\n",
              "  </svg>\n",
              "      </button>\n",
              "      \n",
              "  <style>\n",
              "    .colab-df-container {\n",
              "      display:flex;\n",
              "      flex-wrap:wrap;\n",
              "      gap: 12px;\n",
              "    }\n",
              "\n",
              "    .colab-df-convert {\n",
              "      background-color: #E8F0FE;\n",
              "      border: none;\n",
              "      border-radius: 50%;\n",
              "      cursor: pointer;\n",
              "      display: none;\n",
              "      fill: #1967D2;\n",
              "      height: 32px;\n",
              "      padding: 0 0 0 0;\n",
              "      width: 32px;\n",
              "    }\n",
              "\n",
              "    .colab-df-convert:hover {\n",
              "      background-color: #E2EBFA;\n",
              "      box-shadow: 0px 1px 2px rgba(60, 64, 67, 0.3), 0px 1px 3px 1px rgba(60, 64, 67, 0.15);\n",
              "      fill: #174EA6;\n",
              "    }\n",
              "\n",
              "    [theme=dark] .colab-df-convert {\n",
              "      background-color: #3B4455;\n",
              "      fill: #D2E3FC;\n",
              "    }\n",
              "\n",
              "    [theme=dark] .colab-df-convert:hover {\n",
              "      background-color: #434B5C;\n",
              "      box-shadow: 0px 1px 3px 1px rgba(0, 0, 0, 0.15);\n",
              "      filter: drop-shadow(0px 1px 2px rgba(0, 0, 0, 0.3));\n",
              "      fill: #FFFFFF;\n",
              "    }\n",
              "  </style>\n",
              "\n",
              "      <script>\n",
              "        const buttonEl =\n",
              "          document.querySelector('#df-c51201ec-50ff-4135-90a1-1ad7a5eff36b button.colab-df-convert');\n",
              "        buttonEl.style.display =\n",
              "          google.colab.kernel.accessAllowed ? 'block' : 'none';\n",
              "\n",
              "        async function convertToInteractive(key) {\n",
              "          const element = document.querySelector('#df-c51201ec-50ff-4135-90a1-1ad7a5eff36b');\n",
              "          const dataTable =\n",
              "            await google.colab.kernel.invokeFunction('convertToInteractive',\n",
              "                                                     [key], {});\n",
              "          if (!dataTable) return;\n",
              "\n",
              "          const docLinkHtml = 'Like what you see? Visit the ' +\n",
              "            '<a target=\"_blank\" href=https://colab.research.google.com/notebooks/data_table.ipynb>data table notebook</a>'\n",
              "            + ' to learn more about interactive tables.';\n",
              "          element.innerHTML = '';\n",
              "          dataTable['output_type'] = 'display_data';\n",
              "          await google.colab.output.renderOutput(dataTable, element);\n",
              "          const docLink = document.createElement('div');\n",
              "          docLink.innerHTML = docLinkHtml;\n",
              "          element.appendChild(docLink);\n",
              "        }\n",
              "      </script>\n",
              "    </div>\n",
              "  </div>\n",
              "  "
            ]
          },
          "metadata": {},
          "execution_count": 67
        }
      ],
      "source": [
        "data.head(2)"
      ]
    },
    {
      "cell_type": "code",
      "execution_count": 23,
      "id": "d47458cb",
      "metadata": {
        "colab": {
          "base_uri": "https://localhost:8080/"
        },
        "id": "d47458cb",
        "outputId": "05d4fcf4-e3ae-45fd-d819-4fb86eab9d20"
      },
      "outputs": [
        {
          "output_type": "execute_result",
          "data": {
            "text/plain": [
              "(966, 17)"
            ]
          },
          "metadata": {},
          "execution_count": 23
        }
      ],
      "source": [
        "data.shape"
      ]
    },
    {
      "cell_type": "code",
      "execution_count": 24,
      "id": "ddf808d7",
      "metadata": {
        "colab": {
          "base_uri": "https://localhost:8080/"
        },
        "id": "ddf808d7",
        "outputId": "ae48dd5f-bf32-405e-912e-86a031468837"
      },
      "outputs": [
        {
          "output_type": "stream",
          "name": "stdout",
          "text": [
            "2010\n",
            "2019\n"
          ]
        }
      ],
      "source": [
        "print(data['year_released'].min())\n",
        "print(data['year_released'].max())"
      ]
    },
    {
      "cell_type": "markdown",
      "source": [
        "Quation 1\n",
        "\n",
        " what is the most frequent Artist type ?"
      ],
      "metadata": {
        "id": "dpmKrWyvc--Q"
      },
      "id": "dpmKrWyvc--Q"
    },
    {
      "cell_type": "code",
      "execution_count": 51,
      "id": "1bb6798d",
      "metadata": {
        "colab": {
          "base_uri": "https://localhost:8080/",
          "height": 390
        },
        "id": "1bb6798d",
        "outputId": "d4f62b09-7d22-43d5-86ed-29c614314ae2"
      },
      "outputs": [
        {
          "output_type": "execute_result",
          "data": {
            "text/plain": [
              "Text(0.5, 1.0, 'the most frequent artist type')"
            ]
          },
          "metadata": {},
          "execution_count": 51
        },
        {
          "output_type": "display_data",
          "data": {
            "text/plain": [
              "<Figure size 432x288 with 1 Axes>"
            ],
            "image/png": "[encoded data removed]"
          },
          "metadata": {}
        }
      ],
      "source": [
        "data['artist_type'].value_counts().sort_values(ascending=True).plot(kind='bar')\n",
        "plt.title('the most frequent artist type')"
      ]
    },
    {
      "cell_type": "markdown",
      "source": [
        "what year prouduced the most popular songs ?\n"
      ],
      "metadata": {
        "id": "prOd6JdZn5xI"
      },
      "id": "prOd6JdZn5xI"
    },
    {
      "cell_type": "code",
      "source": [
        "plt.figure(figsize=(10,5))\n",
        "\n",
        "sns.histplot(data['pop'])\n",
        "plt.title('distribution of popularity')"
      ],
      "metadata": {
        "colab": {
          "base_uri": "https://localhost:8080/",
          "height": 400
        },
        "id": "8O8j4OFb1MmF",
        "outputId": "9d4ccc02-fc20-4263-fa47-d07ff6ec1a57"
      },
      "id": "8O8j4OFb1MmF",
      "execution_count": 66,
      "outputs": [
        {
          "output_type": "execute_result",
          "data": {
            "text/plain": [
              "Text(0.5, 1.0, 'distribution of popularity')"
            ]
          },
          "metadata": {},
          "execution_count": 66
        },
        {
          "output_type": "display_data",
          "data": {
            "text/plain": [
              "<Figure size 720x360 with 1 Axes>"
            ],
            "image/png": "[encoded data removed]"
          },
          "metadata": {}
        }
      ]
    },
    {
      "cell_type": "code",
      "execution_count": 57,
      "id": "10778b6f",
      "metadata": {
        "colab": {
          "base_uri": "https://localhost:8080/",
          "height": 586
        },
        "id": "10778b6f",
        "outputId": "7e597d0f-5e0a-4fd7-8047-c0137ddb14c4"
      },
      "outputs": [
        {
          "output_type": "stream",
          "name": "stdout",
          "text": [
            "year_released\n",
            "2010    71.957447\n",
            "2011    72.967742\n",
            "2012    73.834862\n",
            "2013    72.941860\n",
            "2014    74.841584\n",
            "2015    75.171717\n",
            "2016    75.069767\n",
            "2017    77.565657\n",
            "2018    78.035714\n",
            "2019    77.206897\n",
            "Name: pop, dtype: float64\n"
          ]
        },
        {
          "output_type": "execute_result",
          "data": {
            "text/plain": [
              "Text(0.5, 1.0, 'The mean popularity of each year')"
            ]
          },
          "metadata": {},
          "execution_count": 57
        },
        {
          "output_type": "display_data",
          "data": {
            "text/plain": [
              "<Figure size 720x360 with 1 Axes>"
            ],
            "image/png": "[encoded data removed]"
          },
          "metadata": {}
        }
      ],
      "source": [
        "plt.figure(figsize=(10,5))\n",
        "\n",
        "\n",
        "pop_grouped = data.groupby('year_released')['pop'].mean()\n",
        "print(pop_grouped)\n",
        "\n",
        "plt.plot(pop_grouped,  marker='o', markersize=10, )\n",
        "plt.title(\"The mean popularity of each year\")"
      ]
    },
    {
      "cell_type": "markdown",
      "source": [
        "is the energy of the song affect the song popularity ?"
      ],
      "metadata": {
        "id": "zcwYjHsL40YC"
      },
      "id": "zcwYjHsL40YC"
    },
    {
      "cell_type": "code",
      "execution_count": 85,
      "id": "bd3e344d",
      "metadata": {
        "id": "bd3e344d"
      },
      "outputs": [],
      "source": [
        "energy_pop_data = data.loc[:, ['nrgy','pop']]\n",
        "energy_pop_data.head()"
      ]
    },
    {
      "cell_type": "code",
      "source": [
        "plt.figure(figsize=(10,5))\n",
        "\n",
        "sns.histplot(energy_pop_data['nrgy'], bins=20)\n",
        "plt.title(\"the energy column distribution\")"
      ],
      "metadata": {
        "colab": {
          "base_uri": "https://localhost:8080/",
          "height": 400
        },
        "id": "hFEGzPOo7RqZ",
        "outputId": "0308ee0d-08f8-4b0f-d2d6-25752228fa56"
      },
      "id": "hFEGzPOo7RqZ",
      "execution_count": 99,
      "outputs": [
        {
          "output_type": "execute_result",
          "data": {
            "text/plain": [
              "Text(0.5, 1.0, 'the energy column distribution')"
            ]
          },
          "metadata": {},
          "execution_count": 99
        },
        {
          "output_type": "display_data",
          "data": {
            "text/plain": [
              "<Figure size 720x360 with 1 Axes>"
            ],
            "image/png": "[encoded data removed]"
          },
          "metadata": {}
        }
      ]
    },
    {
      "cell_type": "code",
      "source": [
        "# correlation between the two variables\n",
        "\n",
        "corr = energy_pop_data.corr()"
      ],
      "metadata": {
        "id": "vB6H7gqU7Pbj"
      },
      "id": "vB6H7gqU7Pbj",
      "execution_count": 91,
      "outputs": []
    },
    {
      "cell_type": "code",
      "source": [
        "plt.figure(figsize=(10,5))\n",
        "\n",
        "sns.scatterplot(energy_pop_data['pop'], energy_pop_data['nrgy'], edgecolor='k', alpha=0.5)\n",
        "plt.title(\"energy vs. popluarity\")"
      ],
      "metadata": {
        "colab": {
          "base_uri": "https://localhost:8080/",
          "height": 455
        },
        "id": "6vdQkO1n6OwV",
        "outputId": "9c190923-ec93-47a3-c77b-07684925a516"
      },
      "id": "6vdQkO1n6OwV",
      "execution_count": 90,
      "outputs": [
        {
          "output_type": "stream",
          "name": "stderr",
          "text": [
            "/usr/local/lib/python3.7/dist-packages/seaborn/_decorators.py:43: FutureWarning: Pass the following variables as keyword args: x, y. From version 0.12, the only valid positional argument will be `data`, and passing other arguments without an explicit keyword will result in an error or misinterpretation.\n",
            "  FutureWarning\n"
          ]
        },
        {
          "output_type": "execute_result",
          "data": {
            "text/plain": [
              "Text(0.5, 1.0, 'energy vs. popluarity')"
            ]
          },
          "metadata": {},
          "execution_count": 90
        },
        {
          "output_type": "display_data",
          "data": {
            "text/plain": [
              "<Figure size 720x360 with 1 Axes>"
            ],
            "image/png": "[encoded data removed]"
          },
          "metadata": {}
        }
      ]
    }
  ],
  "metadata": {
    "kernelspec": {
      "display_name": "Python 3 (ipykernel)",
      "language": "python",
      "name": "python3"
    },
    "language_info": {
      "codemirror_mode": {
        "name": "ipython",
        "version": 3
      },
      "file_extension": ".py",
      "mimetype": "text/x-python",
      "name": "python",
      "nbconvert_exporter": "python",
      "pygments_lexer": "ipython3",
      "version": "3.9.7"
    },
    "colab": {
      "name": "Analyze Spotify Top 100 Songs 2010 - 2019.ipynb",
      "provenance": [],
      "include_colab_link": true
    }
  },
  "nbformat": 4,
  "nbformat_minor": 5
}